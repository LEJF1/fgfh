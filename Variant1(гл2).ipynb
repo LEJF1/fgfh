{
  "cells": [
    {
      "cell_type": "code",
      "execution_count": 97,
      "metadata": {
        "id": "qbAi5NsmpZVC"
      },
      "outputs": [],
      "source": [
        "import pandas as pd\n",
        "import numpy as np\n",
        "from pprint import pprint\n",
        "import codecs\n",
        "import json\n",
        "import glob\n",
        "from os import listdir\n",
        "from os.path import isfile, join\n",
        "from sklearn.feature_extraction.text import TfidfTransformer, TfidfVectorizer, CountVectorizer\n",
        "from sklearn.cluster import KMeans\n",
        "from sklearn.preprocessing import StandardScaler\n",
        "import seaborn as sns\n",
        "import matplotlib.pyplot as plt\n",
        "import re\n",
        "\n",
        "pd.set_option('display.max_columns', None) #отображения всех столбцов\n"
      ]
    },
    {
      "cell_type": "code",
      "execution_count": 98,
      "metadata": {
        "colab": {
          "base_uri": "https://localhost:8080/"
        },
        "id": "4lqMuhNAsXR7",
        "outputId": "9fac93ad-8ce5-4210-bdbd-b47cf7351ba4"
      },
      "outputs": [
        {
          "data": {
            "text/plain": [
              "['Гэллэри Сервис.json',\n",
              " 'ESforce Holding.json',\n",
              " 'Target.json',\n",
              " 'skillbox.json',\n",
              " 'Goose Gaming.json',\n",
              " 'Промобот.json',\n",
              " 'Здоровье.ру.json',\n",
              " 'Студия Артемия Лебедева.json',\n",
              " 'Федерация креативных индустрий.json',\n",
              " 'Vinci Agency.json',\n",
              " 'Gett.json',\n",
              " 'Cybersport.Metaratings.json',\n",
              " 'Иннотех.json',\n",
              " 'Проект по использованию технологий компьютерного зрения на базе искусственного интеллекта для анализа медицинских изображений.json',\n",
              " 'MMA.Metaratings.json']"
            ]
          },
          "execution_count": 98,
          "metadata": {},
          "output_type": "execute_result"
        }
      ],
      "source": [
        "file = [f for f in listdir('DataVariant1') if isfile(join('DataVariant1', f))] #список файлов в директории \n",
        "file"
      ]
    },
    {
      "cell_type": "code",
      "execution_count": 66,
      "metadata": {
        "id": "SWfgV6-4puI3"
      },
      "outputs": [],
      "source": [
        "company = pd.DataFrame(columns=['Title', 'Day', 'Month', 'Time', 'Rate', 'View', 'Firm'])\n",
        "\n",
        "company1 = pd.DataFrame(columns=['Rate', 'View', 'Category', 'Firm']) # дополнительные данные о компаниях"
      ]
    },
    {
      "cell_type": "code",
      "execution_count": 67,
      "metadata": {
        "colab": {
          "base_uri": "https://localhost:8080/"
        },
        "id": "EQZq4JNupvE9",
        "outputId": "de66aba0-b113-48fc-d2d3-8bfdc2d1e58c"
      },
      "outputs": [
        {
          "name": "stdout",
          "output_type": "stream",
          "text": [
            "Target.json\n"
          ]
        },
        {
          "name": "stdout",
          "output_type": "stream",
          "text": [
            "\n",
            "\n",
            "\n",
            "\n"
          ]
        }
      ],
      "source": [
        "for a in file: # Считываем файлы\n",
        "    try:\n",
        "        df = json.load(open('DataVariant1//' + a, encoding='utf-8'))['refs']\n",
        "        for result in df:\n",
        "            try:\n",
        "                company.loc[len(company.index)] = [result[0], result[1]['day'], result[1]['month'], result[1]['time'], result[2]['rate'], result[2]['views'], a.removesuffix('.json')]\n",
        "            except: # Обработка исключений\n",
        "                print('')\n",
        "    except: # Обработка исключений\n",
        "        print(a)"
      ]
    },
    {
      "cell_type": "code",
      "execution_count": 68,
      "metadata": {
        "id": "6W_N4mwKpz5U"
      },
      "outputs": [],
      "source": [
        "ff = company[company['Day'].notna()]"
      ]
    },
    {
      "cell_type": "code",
      "execution_count": 69,
      "metadata": {
        "colab": {
          "base_uri": "https://localhost:8080/"
        },
        "id": "q_EZVke8p5LG",
        "outputId": "4abadf1d-2c09-4ca0-9ceb-380867ddd76f"
      },
      "outputs": [
        {
          "name": "stdout",
          "output_type": "stream",
          "text": [
            "Гэллэри Сервис.json\n",
            "ESforce Holding.json\n",
            "Target.json\n",
            "Goose Gaming.json\n",
            "Промобот.json\n",
            "Здоровье.ру.json\n",
            "Студия Артемия Лебедева.json\n",
            "Федерация креативных индустрий.json\n",
            "Vinci Agency.json\n",
            "Gett.json\n",
            "Cybersport.Metaratings.json\n",
            "Проект по использованию технологий компьютерного зрения на базе искусственного интеллекта для анализа медицинских изображений.json\n",
            "MMA.Metaratings.json\n"
          ]
        }
      ],
      "source": [
        "for a in file: #Пробегаемся по файлам\n",
        "    try:\n",
        "        df = json.load(open('DataVariant1//' + a, encoding='utf-8'))['info'] #открываем и извлекаем данные\n",
        "        company1.loc[len(company1.index)] = [df['rate'], df['subs'], df['industries'], a.removesuffix('.json')] #добавляем данные\n",
        "    except: # Обработка исключений\n",
        "        print(a)"
      ]
    },
    {
      "cell_type": "code",
      "execution_count": 104,
      "metadata": {},
      "outputs": [
        {
          "data": {
            "text/html": [
              "<div>\n",
              "<style scoped>\n",
              "    .dataframe tbody tr th:only-of-type {\n",
              "        vertical-align: middle;\n",
              "    }\n",
              "\n",
              "    .dataframe tbody tr th {\n",
              "        vertical-align: top;\n",
              "    }\n",
              "\n",
              "    .dataframe thead th {\n",
              "        text-align: right;\n",
              "    }\n",
              "</style>\n",
              "<table border=\"1\" class=\"dataframe\">\n",
              "  <thead>\n",
              "    <tr style=\"text-align: right;\">\n",
              "      <th></th>\n",
              "      <th>Title</th>\n",
              "      <th>Day</th>\n",
              "      <th>Month</th>\n",
              "      <th>Time</th>\n",
              "      <th>Rate</th>\n",
              "      <th>View</th>\n",
              "      <th>Firm</th>\n",
              "    </tr>\n",
              "  </thead>\n",
              "  <tbody>\n",
              "    <tr>\n",
              "      <th>0</th>\n",
              "      <td>7 декабря состоялась церемония награждения лау...</td>\n",
              "      <td>8</td>\n",
              "      <td>декабря</td>\n",
              "      <td>09:30</td>\n",
              "      <td>6</td>\n",
              "      <td>2300</td>\n",
              "      <td>Гэллэри Сервис</td>\n",
              "    </tr>\n",
              "    <tr>\n",
              "      <th>1</th>\n",
              "      <td>Согласно информации издания «РБК», 24 марта 20...</td>\n",
              "      <td>24</td>\n",
              "      <td>марта</td>\n",
              "      <td>14:30</td>\n",
              "      <td>10</td>\n",
              "      <td>5900</td>\n",
              "      <td>Гэллэри Сервис</td>\n",
              "    </tr>\n",
              "    <tr>\n",
              "      <th>2</th>\n",
              "      <td>3 июня в Москве прошёл myDribbble Meetup 2017....</td>\n",
              "      <td>31</td>\n",
              "      <td>мая</td>\n",
              "      <td>14:37</td>\n",
              "      <td>21</td>\n",
              "      <td>1600</td>\n",
              "      <td>Гэллэри Сервис</td>\n",
              "    </tr>\n",
              "    <tr>\n",
              "      <th>3</th>\n",
              "      <td>Дайджест собирает свежие статьи по дизайну инт...</td>\n",
              "      <td>7</td>\n",
              "      <td>мая</td>\n",
              "      <td>16:09</td>\n",
              "      <td>24</td>\n",
              "      <td>5400</td>\n",
              "      <td>Гэллэри Сервис</td>\n",
              "    </tr>\n",
              "    <tr>\n",
              "      <th>4</th>\n",
              "      <td>По статистике, из более чем 7000 государственн...</td>\n",
              "      <td>23</td>\n",
              "      <td>декабря</td>\n",
              "      <td>03:06</td>\n",
              "      <td>16</td>\n",
              "      <td>8900</td>\n",
              "      <td>Гэллэри Сервис</td>\n",
              "    </tr>\n",
              "    <tr>\n",
              "      <th>...</th>\n",
              "      <td>...</td>\n",
              "      <td>...</td>\n",
              "      <td>...</td>\n",
              "      <td>...</td>\n",
              "      <td>...</td>\n",
              "      <td>...</td>\n",
              "      <td>...</td>\n",
              "    </tr>\n",
              "    <tr>\n",
              "      <th>1107</th>\n",
              "      <td>Привет, Хабр! Такое понятие, как «Глубокое обу...</td>\n",
              "      <td>22</td>\n",
              "      <td>ноября</td>\n",
              "      <td>11:03</td>\n",
              "      <td>14</td>\n",
              "      <td>11000</td>\n",
              "      <td>Проект по использованию технологий компьютерн...</td>\n",
              "    </tr>\n",
              "    <tr>\n",
              "      <th>1108</th>\n",
              "      <td>Перевод поста Филиппа Ходжетта, выступавшего н...</td>\n",
              "      <td>6</td>\n",
              "      <td>июня</td>\n",
              "      <td>12:27</td>\n",
              "      <td>4</td>\n",
              "      <td>7800</td>\n",
              "      <td>Проект по использованию технологий компьютерн...</td>\n",
              "    </tr>\n",
              "    <tr>\n",
              "      <th>1109</th>\n",
              "      <td>Никто не понимает, как работают самые передовы...</td>\n",
              "      <td>7</td>\n",
              "      <td>мая</td>\n",
              "      <td>20:05</td>\n",
              "      <td>35</td>\n",
              "      <td>57000</td>\n",
              "      <td>Проект по использованию технологий компьютерн...</td>\n",
              "    </tr>\n",
              "    <tr>\n",
              "      <th>1110</th>\n",
              "      <td>Предположим, вы хотите создать приложение, кот...</td>\n",
              "      <td>20</td>\n",
              "      <td>октября</td>\n",
              "      <td>12:39</td>\n",
              "      <td>10</td>\n",
              "      <td>15000</td>\n",
              "      <td>Проект по использованию технологий компьютерн...</td>\n",
              "    </tr>\n",
              "    <tr>\n",
              "      <th>1111</th>\n",
              "      <td>Добрый день, данная статья о моем opensource p...</td>\n",
              "      <td>13</td>\n",
              "      <td>апреля</td>\n",
              "      <td>17:57</td>\n",
              "      <td>32</td>\n",
              "      <td>220000</td>\n",
              "      <td>Проект по использованию технологий компьютерн...</td>\n",
              "    </tr>\n",
              "  </tbody>\n",
              "</table>\n",
              "<p>1112 rows × 7 columns</p>\n",
              "</div>"
            ],
            "text/plain": [
              "                                                  Title Day    Month   Time  \\\n",
              "0     7 декабря состоялась церемония награждения лау...   8  декабря  09:30   \n",
              "1     Согласно информации издания «РБК», 24 марта 20...  24    марта  14:30   \n",
              "2     3 июня в Москве прошёл myDribbble Meetup 2017....  31      мая  14:37   \n",
              "3     Дайджест собирает свежие статьи по дизайну инт...   7      мая  16:09   \n",
              "4     По статистике, из более чем 7000 государственн...  23  декабря  03:06   \n",
              "...                                                 ...  ..      ...    ...   \n",
              "1107  Привет, Хабр! Такое понятие, как «Глубокое обу...  22   ноября  11:03   \n",
              "1108  Перевод поста Филиппа Ходжетта, выступавшего н...   6     июня  12:27   \n",
              "1109  Никто не понимает, как работают самые передовы...   7      мая  20:05   \n",
              "1110  Предположим, вы хотите создать приложение, кот...  20  октября  12:39   \n",
              "1111  Добрый день, данная статья о моем opensource p...  13   апреля  17:57   \n",
              "\n",
              "      Rate    View                                               Firm  \n",
              "0        6    2300                                     Гэллэри Сервис  \n",
              "1       10    5900                                     Гэллэри Сервис  \n",
              "2       21    1600                                     Гэллэри Сервис  \n",
              "3       24    5400                                     Гэллэри Сервис  \n",
              "4       16    8900                                     Гэллэри Сервис  \n",
              "...    ...     ...                                                ...  \n",
              "1107    14   11000  Проект по использованию технологий компьютерн...  \n",
              "1108     4    7800  Проект по использованию технологий компьютерн...  \n",
              "1109    35   57000  Проект по использованию технологий компьютерн...  \n",
              "1110    10   15000  Проект по использованию технологий компьютерн...  \n",
              "1111    32  220000  Проект по использованию технологий компьютерн...  \n",
              "\n",
              "[1112 rows x 7 columns]"
            ]
          },
          "execution_count": 104,
          "metadata": {},
          "output_type": "execute_result"
        }
      ],
      "source": [
        "ff"
      ]
    },
    {
      "cell_type": "code",
      "execution_count": 71,
      "metadata": {
        "id": "fVbUhR0HqMQV"
      },
      "outputs": [],
      "source": [
        "df_ff = ff.merge(company1, left_on='Firm', right_on='Firm', how='outer') #обьединяем датафреймы"
      ]
    },
    {
      "cell_type": "code",
      "execution_count": 72,
      "metadata": {
        "id": "m5Z0IMh5qNIx"
      },
      "outputs": [],
      "source": [
        "df_ff['Title'] = df_ff['Title'].apply(lambda x: re.sub('[^а-я ]', '', x.lower())) #форматирование столбца Ttile"
      ]
    },
    {
      "cell_type": "code",
      "execution_count": 73,
      "metadata": {
        "id": "t3NSSU6XqNW4"
      },
      "outputs": [
        {
          "data": {
            "text/html": [
              "<div>\n",
              "<style scoped>\n",
              "    .dataframe tbody tr th:only-of-type {\n",
              "        vertical-align: middle;\n",
              "    }\n",
              "\n",
              "    .dataframe tbody tr th {\n",
              "        vertical-align: top;\n",
              "    }\n",
              "\n",
              "    .dataframe thead th {\n",
              "        text-align: right;\n",
              "    }\n",
              "</style>\n",
              "<table border=\"1\" class=\"dataframe\">\n",
              "  <thead>\n",
              "    <tr style=\"text-align: right;\">\n",
              "      <th></th>\n",
              "      <th>Title</th>\n",
              "      <th>Day</th>\n",
              "      <th>Month</th>\n",
              "      <th>Time</th>\n",
              "      <th>Rate_x</th>\n",
              "      <th>View_x</th>\n",
              "      <th>Firm</th>\n",
              "      <th>Rate_y</th>\n",
              "      <th>View_y</th>\n",
              "      <th>Category</th>\n",
              "    </tr>\n",
              "  </thead>\n",
              "  <tbody>\n",
              "    <tr>\n",
              "      <th>0</th>\n",
              "      <td>декабря состоялась церемония награждения лаур...</td>\n",
              "      <td>8</td>\n",
              "      <td>декабря</td>\n",
              "      <td>09:30</td>\n",
              "      <td>6</td>\n",
              "      <td>2300</td>\n",
              "      <td>Гэллэри Сервис</td>\n",
              "      <td>NaN</td>\n",
              "      <td>NaN</td>\n",
              "      <td>NaN</td>\n",
              "    </tr>\n",
              "    <tr>\n",
              "      <th>1</th>\n",
              "      <td>согласно информации издания рбк  марта  года м...</td>\n",
              "      <td>24</td>\n",
              "      <td>марта</td>\n",
              "      <td>14:30</td>\n",
              "      <td>10</td>\n",
              "      <td>5900</td>\n",
              "      <td>Гэллэри Сервис</td>\n",
              "      <td>NaN</td>\n",
              "      <td>NaN</td>\n",
              "      <td>NaN</td>\n",
              "    </tr>\n",
              "    <tr>\n",
              "      <th>2</th>\n",
              "      <td>июня в москве прошл    на этой неформальной к...</td>\n",
              "      <td>31</td>\n",
              "      <td>мая</td>\n",
              "      <td>14:37</td>\n",
              "      <td>21</td>\n",
              "      <td>1600</td>\n",
              "      <td>Гэллэри Сервис</td>\n",
              "      <td>NaN</td>\n",
              "      <td>NaN</td>\n",
              "      <td>NaN</td>\n",
              "    </tr>\n",
              "    <tr>\n",
              "      <th>3</th>\n",
              "      <td>дайджест собирает свежие статьи по дизайну инт...</td>\n",
              "      <td>7</td>\n",
              "      <td>мая</td>\n",
              "      <td>16:09</td>\n",
              "      <td>24</td>\n",
              "      <td>5400</td>\n",
              "      <td>Гэллэри Сервис</td>\n",
              "      <td>NaN</td>\n",
              "      <td>NaN</td>\n",
              "      <td>NaN</td>\n",
              "    </tr>\n",
              "    <tr>\n",
              "      <th>4</th>\n",
              "      <td>по статистике из более чем  государственных са...</td>\n",
              "      <td>23</td>\n",
              "      <td>декабря</td>\n",
              "      <td>03:06</td>\n",
              "      <td>16</td>\n",
              "      <td>8900</td>\n",
              "      <td>Гэллэри Сервис</td>\n",
              "      <td>NaN</td>\n",
              "      <td>NaN</td>\n",
              "      <td>NaN</td>\n",
              "    </tr>\n",
              "    <tr>\n",
              "      <th>...</th>\n",
              "      <td>...</td>\n",
              "      <td>...</td>\n",
              "      <td>...</td>\n",
              "      <td>...</td>\n",
              "      <td>...</td>\n",
              "      <td>...</td>\n",
              "      <td>...</td>\n",
              "      <td>...</td>\n",
              "      <td>...</td>\n",
              "      <td>...</td>\n",
              "    </tr>\n",
              "    <tr>\n",
              "      <th>1107</th>\n",
              "      <td>привет хабр такое понятие как глубокое обучени...</td>\n",
              "      <td>22</td>\n",
              "      <td>ноября</td>\n",
              "      <td>11:03</td>\n",
              "      <td>14</td>\n",
              "      <td>11000</td>\n",
              "      <td>Проект по использованию технологий компьютерн...</td>\n",
              "      <td>NaN</td>\n",
              "      <td>NaN</td>\n",
              "      <td>NaN</td>\n",
              "    </tr>\n",
              "    <tr>\n",
              "      <th>1108</th>\n",
              "      <td>перевод поста филиппа ходжетта выступавшего не...</td>\n",
              "      <td>6</td>\n",
              "      <td>июня</td>\n",
              "      <td>12:27</td>\n",
              "      <td>4</td>\n",
              "      <td>7800</td>\n",
              "      <td>Проект по использованию технологий компьютерн...</td>\n",
              "      <td>NaN</td>\n",
              "      <td>NaN</td>\n",
              "      <td>NaN</td>\n",
              "    </tr>\n",
              "    <tr>\n",
              "      <th>1109</th>\n",
              "      <td>никто не понимает как работают самые передовые...</td>\n",
              "      <td>7</td>\n",
              "      <td>мая</td>\n",
              "      <td>20:05</td>\n",
              "      <td>35</td>\n",
              "      <td>57000</td>\n",
              "      <td>Проект по использованию технологий компьютерн...</td>\n",
              "      <td>NaN</td>\n",
              "      <td>NaN</td>\n",
              "      <td>NaN</td>\n",
              "    </tr>\n",
              "    <tr>\n",
              "      <th>1110</th>\n",
              "      <td>предположим вы хотите создать приложение котор...</td>\n",
              "      <td>20</td>\n",
              "      <td>октября</td>\n",
              "      <td>12:39</td>\n",
              "      <td>10</td>\n",
              "      <td>15000</td>\n",
              "      <td>Проект по использованию технологий компьютерн...</td>\n",
              "      <td>NaN</td>\n",
              "      <td>NaN</td>\n",
              "      <td>NaN</td>\n",
              "    </tr>\n",
              "    <tr>\n",
              "      <th>1111</th>\n",
              "      <td>добрый день данная статья о моем   проекте на ...</td>\n",
              "      <td>13</td>\n",
              "      <td>апреля</td>\n",
              "      <td>17:57</td>\n",
              "      <td>32</td>\n",
              "      <td>220000</td>\n",
              "      <td>Проект по использованию технологий компьютерн...</td>\n",
              "      <td>NaN</td>\n",
              "      <td>NaN</td>\n",
              "      <td>NaN</td>\n",
              "    </tr>\n",
              "  </tbody>\n",
              "</table>\n",
              "<p>1112 rows × 10 columns</p>\n",
              "</div>"
            ],
            "text/plain": [
              "                                                  Title Day    Month   Time  \\\n",
              "0      декабря состоялась церемония награждения лаур...   8  декабря  09:30   \n",
              "1     согласно информации издания рбк  марта  года м...  24    марта  14:30   \n",
              "2      июня в москве прошл    на этой неформальной к...  31      мая  14:37   \n",
              "3     дайджест собирает свежие статьи по дизайну инт...   7      мая  16:09   \n",
              "4     по статистике из более чем  государственных са...  23  декабря  03:06   \n",
              "...                                                 ...  ..      ...    ...   \n",
              "1107  привет хабр такое понятие как глубокое обучени...  22   ноября  11:03   \n",
              "1108  перевод поста филиппа ходжетта выступавшего не...   6     июня  12:27   \n",
              "1109  никто не понимает как работают самые передовые...   7      мая  20:05   \n",
              "1110  предположим вы хотите создать приложение котор...  20  октября  12:39   \n",
              "1111  добрый день данная статья о моем   проекте на ...  13   апреля  17:57   \n",
              "\n",
              "      Rate_x  View_x                                               Firm  \\\n",
              "0          6    2300                                     Гэллэри Сервис   \n",
              "1         10    5900                                     Гэллэри Сервис   \n",
              "2         21    1600                                     Гэллэри Сервис   \n",
              "3         24    5400                                     Гэллэри Сервис   \n",
              "4         16    8900                                     Гэллэри Сервис   \n",
              "...      ...     ...                                                ...   \n",
              "1107      14   11000  Проект по использованию технологий компьютерн...   \n",
              "1108       4    7800  Проект по использованию технологий компьютерн...   \n",
              "1109      35   57000  Проект по использованию технологий компьютерн...   \n",
              "1110      10   15000  Проект по использованию технологий компьютерн...   \n",
              "1111      32  220000  Проект по использованию технологий компьютерн...   \n",
              "\n",
              "      Rate_y  View_y Category  \n",
              "0        NaN     NaN      NaN  \n",
              "1        NaN     NaN      NaN  \n",
              "2        NaN     NaN      NaN  \n",
              "3        NaN     NaN      NaN  \n",
              "4        NaN     NaN      NaN  \n",
              "...      ...     ...      ...  \n",
              "1107     NaN     NaN      NaN  \n",
              "1108     NaN     NaN      NaN  \n",
              "1109     NaN     NaN      NaN  \n",
              "1110     NaN     NaN      NaN  \n",
              "1111     NaN     NaN      NaN  \n",
              "\n",
              "[1112 rows x 10 columns]"
            ]
          },
          "execution_count": 73,
          "metadata": {},
          "output_type": "execute_result"
        }
      ],
      "source": [
        "df_ff1 = df_ff.copy() #Создаем копию для дальнейшей работы\n",
        "df_ff1"
      ]
    },
    {
      "cell_type": "code",
      "execution_count": 74,
      "metadata": {
        "id": "qULQGZBbqNZs"
      },
      "outputs": [],
      "source": [
        "cv = CountVectorizer(min_df=1000) #Создаем матрицу по Title\n",
        "sparse_mat = cv.fit_transform(df_ff['Title'])"
      ]
    },
    {
      "cell_type": "code",
      "execution_count": 75,
      "metadata": {
        "id": "hMePrWMwqZrl"
      },
      "outputs": [],
      "source": [
        "dense_mat = sparse_mat.todense() #Преобразование матрицы в плотный формат "
      ]
    },
    {
      "cell_type": "code",
      "execution_count": 76,
      "metadata": {
        "colab": {
          "base_uri": "https://localhost:8080/"
        },
        "id": "LYrxvuMIqZug",
        "outputId": "83bf0a5e-1ef7-4ebd-c7a3-b06ba5f59f37"
      },
      "outputs": [
        {
          "name": "stdout",
          "output_type": "stream",
          "text": [
            "{'для': 0, 'на': 1, 'не': 2, 'по': 3, 'что': 4}\n"
          ]
        }
      ],
      "source": [
        "pprint(cv.vocabulary_)"
      ]
    },
    {
      "cell_type": "code",
      "execution_count": 77,
      "metadata": {
        "colab": {
          "base_uri": "https://localhost:8080/"
        },
        "id": "2YskwMJQqZxD",
        "outputId": "f42222d9-e714-4f07-8cb1-d0ed48b34896"
      },
      "outputs": [
        {
          "data": {
            "text/plain": [
              "matrix([[0.26846359, 0.34189891, 0.08997297, 0.89166024, 0.08876546],\n",
              "        [0.19999107, 0.57306705, 0.6032256 , 0.33211968, 0.39675324],\n",
              "        [0.43749036, 0.83574169, 0.19993725, 0.11888644, 0.23670473],\n",
              "        ...,\n",
              "        [0.4541711 , 0.55347346, 0.50387103, 0.26528071, 0.40390082],\n",
              "        [0.6553995 , 0.64836514, 0.28240815, 0.16326059, 0.20896352],\n",
              "        [0.95306885, 0.29697264, 0.02656089, 0.05062053, 0.01411008]])"
            ]
          },
          "execution_count": 77,
          "metadata": {},
          "output_type": "execute_result"
        }
      ],
      "source": [
        "tfidf_transformer = TfidfTransformer() # Преобразование плотной матрицы в TF-IDF\n",
        "tfidf = tfidf_transformer.fit_transform(sparse_mat)\n",
        "tfidf.todense()"
      ]
    },
    {
      "cell_type": "code",
      "execution_count": 78,
      "metadata": {
        "id": "C12O7e-qqZzt"
      },
      "outputs": [],
      "source": [
        "dense_tfidf = tfidf.todense() # Преобразование матрицы TF-IDF в плотный формат"
      ]
    },
    {
      "cell_type": "code",
      "execution_count": 79,
      "metadata": {
        "id": "506IwesXqNcP"
      },
      "outputs": [],
      "source": [
        "df_ff1['Day'] = df_ff1['Day'].apply(lambda x: x.replace('сегодня', '15'))"
      ]
    },
    {
      "cell_type": "code",
      "execution_count": 80,
      "metadata": {
        "id": "xx5_UBRuqkxj"
      },
      "outputs": [],
      "source": [
        "df_ff1['Month'] = df_ff1['Month'].apply(lambda x: 'декабря' if x == 'в' else x)"
      ]
    },
    {
      "cell_type": "code",
      "execution_count": 81,
      "metadata": {
        "id": "iuShqBX6qk0O"
      },
      "outputs": [],
      "source": [
        "month_dict = {\n",
        "    'января': 1, 'февраля': 2, 'марта': 3, 'апреля': 4, 'мая': 5, 'июня': 6,\n",
        "    'июля': 7, 'августа': 8, 'сентября': 9, 'октября': 10, 'ноября': 11, 'декабря': 12\n",
        "} #словарm  для замены текстовых месяцев числовыми значениями"
      ]
    },
    {
      "cell_type": "code",
      "execution_count": 82,
      "metadata": {
        "id": "zF8qygW9qk21"
      },
      "outputs": [],
      "source": [
        "df_ff1['Month'] = df_ff1['Month'].map(month_dict) #Заменяем строчные месяца на числовые из словаря"
      ]
    },
    {
      "cell_type": "code",
      "execution_count": 83,
      "metadata": {
        "id": "wWVKreGLqk5c"
      },
      "outputs": [],
      "source": [
        "df_ff1.drop(['Title', 'Rate_y', 'View_y', 'Category'], axis=1, inplace=True) #удаляем строку title из лишних столбцов"
      ]
    },
    {
      "cell_type": "code",
      "execution_count": 84,
      "metadata": {
        "id": "fHzKYPuTquaE"
      },
      "outputs": [],
      "source": [
        "from sklearn.preprocessing import StandardScaler, LabelEncoder\n",
        "label_encoder = LabelEncoder()\n",
        "all2_categorical = df_ff1.select_dtypes(include=['object'])\n",
        "all2_categorical = all2_categorical.apply(label_encoder.fit_transform) #преобразование типов данных в числовые значения\n",
        "\n",
        "all2_numeric = df_ff1.select_dtypes(exclude=['object'])\n",
        "all2_encoded = pd.concat([all2_numeric, all2_categorical], axis=1) #объединияем числовые и закодированные категориальные признаки\n",
        "\n",
        "# Применияем стандартное масштабирование\n",
        "scaler = StandardScaler()\n",
        "scaled_X = scaler.fit_transform(all2_encoded)"
      ]
    },
    {
      "cell_type": "code",
      "execution_count": 85,
      "metadata": {
        "id": "F_UrUwGCquc5"
      },
      "outputs": [],
      "source": [
        "scaler = StandardScaler()\n",
        "scaled_X = scaler.fit_transform(all2_encoded) #стандартизируем"
      ]
    },
    {
      "cell_type": "code",
      "execution_count": 86,
      "metadata": {
        "colab": {
          "base_uri": "https://localhost:8080/"
        },
        "id": "Fm0Mw-G9qufl",
        "outputId": "26a91ff9-32ed-4ec3-dacb-24963d247be0"
      },
      "outputs": [
        {
          "name": "stderr",
          "output_type": "stream",
          "text": [
            "/Library/Frameworks/Python.framework/Versions/3.9/lib/python3.9/site-packages/sklearn/cluster/_kmeans.py:1416: FutureWarning: The default value of `n_init` will change from 10 to 'auto' in 1.4. Set the value of `n_init` explicitly to suppress the warning\n",
            "  super()._check_params_vs_input(X, default_n_init=10)\n"
          ]
        },
        {
          "data": {
            "text/plain": [
              "array([0, 1, 1, ..., 1, 0, 1], dtype=int32)"
            ]
          },
          "execution_count": 86,
          "metadata": {},
          "output_type": "execute_result"
        }
      ],
      "source": [
        "model = KMeans(n_clusters=2) #создаем модель с указанным кол-во кластерами\n",
        "cluster_labels = model.fit_predict(scaled_X) #прогназируем \n",
        "cluster_labels"
      ]
    },
    {
      "cell_type": "code",
      "execution_count": 87,
      "metadata": {
        "id": "KQRDoaQbqukj"
      },
      "outputs": [],
      "source": [
        "df_ff1['Cluster'] = cluster_labels #добавляем новый столбец с результатами модели и кластеров"
      ]
    },
    {
      "cell_type": "code",
      "execution_count": 88,
      "metadata": {
        "colab": {
          "base_uri": "https://localhost:8080/",
          "height": 423
        },
        "id": "YWJAT_01qk8F",
        "outputId": "6c4ffde5-9b71-44f8-fe81-5db6d5a89b59"
      },
      "outputs": [
        {
          "data": {
            "text/html": [
              "<div>\n",
              "<style scoped>\n",
              "    .dataframe tbody tr th:only-of-type {\n",
              "        vertical-align: middle;\n",
              "    }\n",
              "\n",
              "    .dataframe tbody tr th {\n",
              "        vertical-align: top;\n",
              "    }\n",
              "\n",
              "    .dataframe thead th {\n",
              "        text-align: right;\n",
              "    }\n",
              "</style>\n",
              "<table border=\"1\" class=\"dataframe\">\n",
              "  <thead>\n",
              "    <tr style=\"text-align: right;\">\n",
              "      <th></th>\n",
              "      <th>Day</th>\n",
              "      <th>Month</th>\n",
              "      <th>Time</th>\n",
              "      <th>Rate_x</th>\n",
              "      <th>View_x</th>\n",
              "      <th>Firm</th>\n",
              "      <th>Cluster</th>\n",
              "    </tr>\n",
              "  </thead>\n",
              "  <tbody>\n",
              "    <tr>\n",
              "      <th>0</th>\n",
              "      <td>8</td>\n",
              "      <td>12</td>\n",
              "      <td>09:30</td>\n",
              "      <td>6</td>\n",
              "      <td>2300</td>\n",
              "      <td>Гэллэри Сервис</td>\n",
              "      <td>0</td>\n",
              "    </tr>\n",
              "    <tr>\n",
              "      <th>1</th>\n",
              "      <td>24</td>\n",
              "      <td>3</td>\n",
              "      <td>14:30</td>\n",
              "      <td>10</td>\n",
              "      <td>5900</td>\n",
              "      <td>Гэллэри Сервис</td>\n",
              "      <td>1</td>\n",
              "    </tr>\n",
              "    <tr>\n",
              "      <th>2</th>\n",
              "      <td>31</td>\n",
              "      <td>5</td>\n",
              "      <td>14:37</td>\n",
              "      <td>21</td>\n",
              "      <td>1600</td>\n",
              "      <td>Гэллэри Сервис</td>\n",
              "      <td>1</td>\n",
              "    </tr>\n",
              "    <tr>\n",
              "      <th>3</th>\n",
              "      <td>7</td>\n",
              "      <td>5</td>\n",
              "      <td>16:09</td>\n",
              "      <td>24</td>\n",
              "      <td>5400</td>\n",
              "      <td>Гэллэри Сервис</td>\n",
              "      <td>1</td>\n",
              "    </tr>\n",
              "    <tr>\n",
              "      <th>4</th>\n",
              "      <td>23</td>\n",
              "      <td>12</td>\n",
              "      <td>03:06</td>\n",
              "      <td>16</td>\n",
              "      <td>8900</td>\n",
              "      <td>Гэллэри Сервис</td>\n",
              "      <td>0</td>\n",
              "    </tr>\n",
              "    <tr>\n",
              "      <th>...</th>\n",
              "      <td>...</td>\n",
              "      <td>...</td>\n",
              "      <td>...</td>\n",
              "      <td>...</td>\n",
              "      <td>...</td>\n",
              "      <td>...</td>\n",
              "      <td>...</td>\n",
              "    </tr>\n",
              "    <tr>\n",
              "      <th>1107</th>\n",
              "      <td>22</td>\n",
              "      <td>11</td>\n",
              "      <td>11:03</td>\n",
              "      <td>14</td>\n",
              "      <td>11000</td>\n",
              "      <td>Проект по использованию технологий компьютерн...</td>\n",
              "      <td>0</td>\n",
              "    </tr>\n",
              "    <tr>\n",
              "      <th>1108</th>\n",
              "      <td>6</td>\n",
              "      <td>6</td>\n",
              "      <td>12:27</td>\n",
              "      <td>4</td>\n",
              "      <td>7800</td>\n",
              "      <td>Проект по использованию технологий компьютерн...</td>\n",
              "      <td>1</td>\n",
              "    </tr>\n",
              "    <tr>\n",
              "      <th>1109</th>\n",
              "      <td>7</td>\n",
              "      <td>5</td>\n",
              "      <td>20:05</td>\n",
              "      <td>35</td>\n",
              "      <td>57000</td>\n",
              "      <td>Проект по использованию технологий компьютерн...</td>\n",
              "      <td>1</td>\n",
              "    </tr>\n",
              "    <tr>\n",
              "      <th>1110</th>\n",
              "      <td>20</td>\n",
              "      <td>10</td>\n",
              "      <td>12:39</td>\n",
              "      <td>10</td>\n",
              "      <td>15000</td>\n",
              "      <td>Проект по использованию технологий компьютерн...</td>\n",
              "      <td>0</td>\n",
              "    </tr>\n",
              "    <tr>\n",
              "      <th>1111</th>\n",
              "      <td>13</td>\n",
              "      <td>4</td>\n",
              "      <td>17:57</td>\n",
              "      <td>32</td>\n",
              "      <td>220000</td>\n",
              "      <td>Проект по использованию технологий компьютерн...</td>\n",
              "      <td>1</td>\n",
              "    </tr>\n",
              "  </tbody>\n",
              "</table>\n",
              "<p>1112 rows × 7 columns</p>\n",
              "</div>"
            ],
            "text/plain": [
              "     Day  Month   Time  Rate_x  View_x  \\\n",
              "0      8     12  09:30       6    2300   \n",
              "1     24      3  14:30      10    5900   \n",
              "2     31      5  14:37      21    1600   \n",
              "3      7      5  16:09      24    5400   \n",
              "4     23     12  03:06      16    8900   \n",
              "...   ..    ...    ...     ...     ...   \n",
              "1107  22     11  11:03      14   11000   \n",
              "1108   6      6  12:27       4    7800   \n",
              "1109   7      5  20:05      35   57000   \n",
              "1110  20     10  12:39      10   15000   \n",
              "1111  13      4  17:57      32  220000   \n",
              "\n",
              "                                                   Firm  Cluster  \n",
              "0                                        Гэллэри Сервис        0  \n",
              "1                                        Гэллэри Сервис        1  \n",
              "2                                        Гэллэри Сервис        1  \n",
              "3                                        Гэллэри Сервис        1  \n",
              "4                                        Гэллэри Сервис        0  \n",
              "...                                                 ...      ...  \n",
              "1107  Проект по использованию технологий компьютерн...        0  \n",
              "1108  Проект по использованию технологий компьютерн...        1  \n",
              "1109  Проект по использованию технологий компьютерн...        1  \n",
              "1110  Проект по использованию технологий компьютерн...        0  \n",
              "1111  Проект по использованию технологий компьютерн...        1  \n",
              "\n",
              "[1112 rows x 7 columns]"
            ]
          },
          "execution_count": 88,
          "metadata": {},
          "output_type": "execute_result"
        }
      ],
      "source": [
        "df_ff1 # Вывод результата"
      ]
    },
    {
      "cell_type": "code",
      "execution_count": 89,
      "metadata": {
        "colab": {
          "base_uri": "https://localhost:8080/",
          "height": 507
        },
        "id": "BRZ0mWA_ujjk",
        "outputId": "7757974b-d9b4-43c1-d5b2-5613fb6652b7"
      },
      "outputs": [
        {
          "data": {
            "text/plain": [
              "<Axes: >"
            ]
          },
          "execution_count": 89,
          "metadata": {},
          "output_type": "execute_result"
        },
        {
          "data": {
            "image/png": "[encoded data removed]",
            "text/plain": [
              "<Figure size 640x480 with 2 Axes>"
            ]
          },
          "metadata": {},
          "output_type": "display_data"
        }
      ],
      "source": [
        "sns.heatmap(df_ff1.corr()) #визуализация кореляции "
      ]
    },
    {
      "cell_type": "code",
      "execution_count": 90,
      "metadata": {
        "colab": {
          "base_uri": "https://localhost:8080/"
        },
        "id": "LyD5YAXDujmX",
        "outputId": "086cc003-168a-457b-87bf-8b6ce8ec83c7"
      },
      "outputs": [
        {
          "data": {
            "text/plain": [
              "Month     -0.861893\n",
              "Rate_x     0.130551\n",
              "View_x     0.042148\n",
              "Cluster    1.000000\n",
              "Name: Cluster, dtype: float64"
            ]
          },
          "execution_count": 90,
          "metadata": {},
          "output_type": "execute_result"
        }
      ],
      "source": [
        "df_ff1.corr()['Cluster']"
      ]
    },
    {
      "cell_type": "code",
      "execution_count": 91,
      "metadata": {
        "colab": {
          "base_uri": "https://localhost:8080/",
          "height": 487
        },
        "id": "m8jexQyxujo7",
        "outputId": "574c999b-c37f-44ee-efd3-62bedbd7ec11"
      },
      "outputs": [
        {
          "data": {
            "text/plain": [
              "Text(0, 0.5, 'Correlation with Cluster')"
            ]
          },
          "execution_count": 91,
          "metadata": {},
          "output_type": "execute_result"
        },
        {
          "data": {
            "image/png": "[encoded data removed]",
            "text/plain": [
              "<Figure size 2400x1200 with 1 Axes>"
            ]
          },
          "metadata": {},
          "output_type": "display_data"
        }
      ],
      "source": [
        "\n",
        "plt.figure(figsize=(12, 6), dpi=200)\n",
        "df_ff1.corr()['Cluster'].iloc[:-1].sort_values().plot(kind='bar')  #cоздание и отображение столбчатой диаграммы корреляции\n",
        "plt.xlabel(\"Features\")\n",
        "plt.ylabel(\"Correlation with Cluster\")\n"
      ]
    },
    {
      "cell_type": "code",
      "execution_count": 92,
      "metadata": {
        "colab": {
          "base_uri": "https://localhost:8080/",
          "height": 786
        },
        "id": "PqXDmL9_ujsF",
        "outputId": "4bed35ee-1be4-435d-a638-3e97387938a9"
      },
      "outputs": [
        {
          "name": "stderr",
          "output_type": "stream",
          "text": [
            "/Library/Frameworks/Python.framework/Versions/3.9/lib/python3.9/site-packages/sklearn/cluster/_kmeans.py:1416: FutureWarning: The default value of `n_init` will change from 10 to 'auto' in 1.4. Set the value of `n_init` explicitly to suppress the warning\n",
            "  super()._check_params_vs_input(X, default_n_init=10)\n",
            "/Library/Frameworks/Python.framework/Versions/3.9/lib/python3.9/site-packages/sklearn/cluster/_kmeans.py:1416: FutureWarning: The default value of `n_init` will change from 10 to 'auto' in 1.4. Set the value of `n_init` explicitly to suppress the warning\n",
            "  super()._check_params_vs_input(X, default_n_init=10)\n",
            "/Library/Frameworks/Python.framework/Versions/3.9/lib/python3.9/site-packages/sklearn/cluster/_kmeans.py:1416: FutureWarning: The default value of `n_init` will change from 10 to 'auto' in 1.4. Set the value of `n_init` explicitly to suppress the warning\n",
            "  super()._check_params_vs_input(X, default_n_init=10)\n",
            "/Library/Frameworks/Python.framework/Versions/3.9/lib/python3.9/site-packages/sklearn/cluster/_kmeans.py:1416: FutureWarning: The default value of `n_init` will change from 10 to 'auto' in 1.4. Set the value of `n_init` explicitly to suppress the warning\n",
            "  super()._check_params_vs_input(X, default_n_init=10)\n",
            "/Library/Frameworks/Python.framework/Versions/3.9/lib/python3.9/site-packages/sklearn/cluster/_kmeans.py:1416: FutureWarning: The default value of `n_init` will change from 10 to 'auto' in 1.4. Set the value of `n_init` explicitly to suppress the warning\n",
            "  super()._check_params_vs_input(X, default_n_init=10)\n",
            "/Library/Frameworks/Python.framework/Versions/3.9/lib/python3.9/site-packages/sklearn/cluster/_kmeans.py:1416: FutureWarning: The default value of `n_init` will change from 10 to 'auto' in 1.4. Set the value of `n_init` explicitly to suppress the warning\n",
            "  super()._check_params_vs_input(X, default_n_init=10)\n",
            "/Library/Frameworks/Python.framework/Versions/3.9/lib/python3.9/site-packages/sklearn/cluster/_kmeans.py:1416: FutureWarning: The default value of `n_init` will change from 10 to 'auto' in 1.4. Set the value of `n_init` explicitly to suppress the warning\n",
            "  super()._check_params_vs_input(X, default_n_init=10)\n",
            "/Library/Frameworks/Python.framework/Versions/3.9/lib/python3.9/site-packages/sklearn/cluster/_kmeans.py:1416: FutureWarning: The default value of `n_init` will change from 10 to 'auto' in 1.4. Set the value of `n_init` explicitly to suppress the warning\n",
            "  super()._check_params_vs_input(X, default_n_init=10)\n"
          ]
        },
        {
          "data": {
            "text/plain": [
              "Text(0, 0.5, 'Sum of Squared Distances')"
            ]
          },
          "execution_count": 92,
          "metadata": {},
          "output_type": "execute_result"
        },
        {
          "data": {
            "image/png": "[encoded data removed]",
            "text/plain": [
              "<Figure size 1600x1000 with 1 Axes>"
            ]
          },
          "metadata": {},
          "output_type": "display_data"
        }
      ],
      "source": [
        "ssd = []  #получаем данные для их экранизации путем разных количеств кластеров\n",
        "for k in range(2, 10): #проганяем  по количеству кластеров, до 10 \n",
        "    model = KMeans(n_clusters=k)\n",
        "    model.fit(scaled_X)\n",
        "    ssd.append(model.inertia_) #добавляем результат в масиив\n",
        "\n",
        "plt.figure(figsize=(8, 5), dpi=200)\n",
        "plt.plot(range(2, 10), ssd, 'o--')\n",
        "plt.xlabel(\"K Value\")\n",
        "plt.ylabel(\"Sum of Squared Distances\")"
      ]
    },
    {
      "cell_type": "code",
      "execution_count": 93,
      "metadata": {
        "colab": {
          "base_uri": "https://localhost:8080/"
        },
        "id": "Oyqb0Pq7ujuy",
        "outputId": "ec982c68-657f-4528-903c-cbd1c09e3c6b"
      },
      "outputs": [
        {
          "data": {
            "text/plain": [
              "[5800.915262910631,\n",
              " 4618.977865314191,\n",
              " 4024.570584413481,\n",
              " 3449.678280215752,\n",
              " 3039.5203849549125,\n",
              " 2745.196145474143,\n",
              " 2532.7200033664935,\n",
              " 2370.4846790148927]"
            ]
          },
          "execution_count": 93,
          "metadata": {},
          "output_type": "execute_result"
        }
      ],
      "source": [
        "ssd #ssqd"
      ]
    },
    {
      "cell_type": "code",
      "execution_count": 94,
      "metadata": {
        "colab": {
          "base_uri": "https://localhost:8080/",
          "height": 467
        },
        "id": "9VWj-NhOujxz",
        "outputId": "14ae1e29-8946-4752-a32d-de1b75b1480b"
      },
      "outputs": [
        {
          "data": {
            "text/plain": [
              "Text(0, 0.5, 'Difference in SSQD')"
            ]
          },
          "execution_count": 94,
          "metadata": {},
          "output_type": "execute_result"
        },
        {
          "data": {
            "image/png": "[encoded data removed]",
            "text/plain": [
              "<Figure size 640x480 with 1 Axes>"
            ]
          },
          "metadata": {},
          "output_type": "display_data"
        }
      ],
      "source": [
        "pd.Series(ssd).diff().plot(kind='bar') #расчет и визуализация разницы между последовательными значениями SSQD\n",
        "plt.xlabel(\"K Value\")\n",
        "plt.ylabel(\"Difference in SSQD\")"
      ]
    },
    {
      "cell_type": "code",
      "execution_count": 95,
      "metadata": {
        "id": "Ze9p5izGuj0W"
      },
      "outputs": [],
      "source": [
        "from nltk.tokenize import ToktokTokenizer\n",
        "# Токенизация текстового столбца 'Title' с использованием библиотеки NLTK\n",
        "tknzr = ToktokTokenizer()\n",
        "df_ff['Title'] = df_ff['Title'].apply(lambda x: tknzr.tokenize(x))"
      ]
    },
    {
      "cell_type": "code",
      "execution_count": 102,
      "metadata": {
        "id": "JS6efv5WwY1Z"
      },
      "outputs": [],
      "source": [
        "# Фильтрация строк в DataFrame 'all1', оставляя только те, где столбец 'Firm' не содержит пропущенных значений\n",
        "all1 = df_ff[df_ff['Firm'].notna()]"
      ]
    },
    {
      "cell_type": "code",
      "execution_count": 103,
      "metadata": {
        "colab": {
          "base_uri": "https://localhost:8080/",
          "height": 877
        },
        "id": "kC19GDafwY4a",
        "outputId": "c51f9a79-aa82-4602-c0a7-fe38db54eca8"
      },
      "outputs": [
        {
          "data": {
            "text/html": [
              "<div>\n",
              "<style scoped>\n",
              "    .dataframe tbody tr th:only-of-type {\n",
              "        vertical-align: middle;\n",
              "    }\n",
              "\n",
              "    .dataframe tbody tr th {\n",
              "        vertical-align: top;\n",
              "    }\n",
              "\n",
              "    .dataframe thead th {\n",
              "        text-align: right;\n",
              "    }\n",
              "</style>\n",
              "<table border=\"1\" class=\"dataframe\">\n",
              "  <thead>\n",
              "    <tr style=\"text-align: right;\">\n",
              "      <th></th>\n",
              "      <th>Title</th>\n",
              "      <th>Day</th>\n",
              "      <th>Month</th>\n",
              "      <th>Time</th>\n",
              "      <th>Rate_x</th>\n",
              "      <th>View_x</th>\n",
              "      <th>Firm</th>\n",
              "      <th>Rate_y</th>\n",
              "      <th>View_y</th>\n",
              "      <th>Category</th>\n",
              "    </tr>\n",
              "  </thead>\n",
              "  <tbody>\n",
              "    <tr>\n",
              "      <th>0</th>\n",
              "      <td>[декабря, состоялась, церемония, награждения, ...</td>\n",
              "      <td>8</td>\n",
              "      <td>декабря</td>\n",
              "      <td>09:30</td>\n",
              "      <td>6</td>\n",
              "      <td>2300</td>\n",
              "      <td>Гэллэри Сервис</td>\n",
              "      <td>NaN</td>\n",
              "      <td>NaN</td>\n",
              "      <td>NaN</td>\n",
              "    </tr>\n",
              "    <tr>\n",
              "      <th>1</th>\n",
              "      <td>[согласно, информации, издания, рбк, марта, го...</td>\n",
              "      <td>24</td>\n",
              "      <td>марта</td>\n",
              "      <td>14:30</td>\n",
              "      <td>10</td>\n",
              "      <td>5900</td>\n",
              "      <td>Гэллэри Сервис</td>\n",
              "      <td>NaN</td>\n",
              "      <td>NaN</td>\n",
              "      <td>NaN</td>\n",
              "    </tr>\n",
              "    <tr>\n",
              "      <th>2</th>\n",
              "      <td>[июня, в, москве, прошл, на, этой, неформально...</td>\n",
              "      <td>31</td>\n",
              "      <td>мая</td>\n",
              "      <td>14:37</td>\n",
              "      <td>21</td>\n",
              "      <td>1600</td>\n",
              "      <td>Гэллэри Сервис</td>\n",
              "      <td>NaN</td>\n",
              "      <td>NaN</td>\n",
              "      <td>NaN</td>\n",
              "    </tr>\n",
              "    <tr>\n",
              "      <th>3</th>\n",
              "      <td>[дайджест, собирает, свежие, статьи, по, дизай...</td>\n",
              "      <td>7</td>\n",
              "      <td>мая</td>\n",
              "      <td>16:09</td>\n",
              "      <td>24</td>\n",
              "      <td>5400</td>\n",
              "      <td>Гэллэри Сервис</td>\n",
              "      <td>NaN</td>\n",
              "      <td>NaN</td>\n",
              "      <td>NaN</td>\n",
              "    </tr>\n",
              "    <tr>\n",
              "      <th>4</th>\n",
              "      <td>[по, статистике, из, более, чем, государственн...</td>\n",
              "      <td>23</td>\n",
              "      <td>декабря</td>\n",
              "      <td>03:06</td>\n",
              "      <td>16</td>\n",
              "      <td>8900</td>\n",
              "      <td>Гэллэри Сервис</td>\n",
              "      <td>NaN</td>\n",
              "      <td>NaN</td>\n",
              "      <td>NaN</td>\n",
              "    </tr>\n",
              "    <tr>\n",
              "      <th>...</th>\n",
              "      <td>...</td>\n",
              "      <td>...</td>\n",
              "      <td>...</td>\n",
              "      <td>...</td>\n",
              "      <td>...</td>\n",
              "      <td>...</td>\n",
              "      <td>...</td>\n",
              "      <td>...</td>\n",
              "      <td>...</td>\n",
              "      <td>...</td>\n",
              "    </tr>\n",
              "    <tr>\n",
              "      <th>1107</th>\n",
              "      <td>[привет, хабр, такое, понятие, как, глубокое, ...</td>\n",
              "      <td>22</td>\n",
              "      <td>ноября</td>\n",
              "      <td>11:03</td>\n",
              "      <td>14</td>\n",
              "      <td>11000</td>\n",
              "      <td>Проект по использованию технологий компьютерн...</td>\n",
              "      <td>NaN</td>\n",
              "      <td>NaN</td>\n",
              "      <td>NaN</td>\n",
              "    </tr>\n",
              "    <tr>\n",
              "      <th>1108</th>\n",
              "      <td>[перевод, поста, филиппа, ходжетта, выступавше...</td>\n",
              "      <td>6</td>\n",
              "      <td>июня</td>\n",
              "      <td>12:27</td>\n",
              "      <td>4</td>\n",
              "      <td>7800</td>\n",
              "      <td>Проект по использованию технологий компьютерн...</td>\n",
              "      <td>NaN</td>\n",
              "      <td>NaN</td>\n",
              "      <td>NaN</td>\n",
              "    </tr>\n",
              "    <tr>\n",
              "      <th>1109</th>\n",
              "      <td>[никто, не, понимает, как, работают, самые, пе...</td>\n",
              "      <td>7</td>\n",
              "      <td>мая</td>\n",
              "      <td>20:05</td>\n",
              "      <td>35</td>\n",
              "      <td>57000</td>\n",
              "      <td>Проект по использованию технологий компьютерн...</td>\n",
              "      <td>NaN</td>\n",
              "      <td>NaN</td>\n",
              "      <td>NaN</td>\n",
              "    </tr>\n",
              "    <tr>\n",
              "      <th>1110</th>\n",
              "      <td>[предположим, вы, хотите, создать, приложение,...</td>\n",
              "      <td>20</td>\n",
              "      <td>октября</td>\n",
              "      <td>12:39</td>\n",
              "      <td>10</td>\n",
              "      <td>15000</td>\n",
              "      <td>Проект по использованию технологий компьютерн...</td>\n",
              "      <td>NaN</td>\n",
              "      <td>NaN</td>\n",
              "      <td>NaN</td>\n",
              "    </tr>\n",
              "    <tr>\n",
              "      <th>1111</th>\n",
              "      <td>[добрый, день, данная, статья, о, моем, проект...</td>\n",
              "      <td>13</td>\n",
              "      <td>апреля</td>\n",
              "      <td>17:57</td>\n",
              "      <td>32</td>\n",
              "      <td>220000</td>\n",
              "      <td>Проект по использованию технологий компьютерн...</td>\n",
              "      <td>NaN</td>\n",
              "      <td>NaN</td>\n",
              "      <td>NaN</td>\n",
              "    </tr>\n",
              "  </tbody>\n",
              "</table>\n",
              "<p>1112 rows × 10 columns</p>\n",
              "</div>"
            ],
            "text/plain": [
              "                                                  Title Day    Month   Time  \\\n",
              "0     [декабря, состоялась, церемония, награждения, ...   8  декабря  09:30   \n",
              "1     [согласно, информации, издания, рбк, марта, го...  24    марта  14:30   \n",
              "2     [июня, в, москве, прошл, на, этой, неформально...  31      мая  14:37   \n",
              "3     [дайджест, собирает, свежие, статьи, по, дизай...   7      мая  16:09   \n",
              "4     [по, статистике, из, более, чем, государственн...  23  декабря  03:06   \n",
              "...                                                 ...  ..      ...    ...   \n",
              "1107  [привет, хабр, такое, понятие, как, глубокое, ...  22   ноября  11:03   \n",
              "1108  [перевод, поста, филиппа, ходжетта, выступавше...   6     июня  12:27   \n",
              "1109  [никто, не, понимает, как, работают, самые, пе...   7      мая  20:05   \n",
              "1110  [предположим, вы, хотите, создать, приложение,...  20  октября  12:39   \n",
              "1111  [добрый, день, данная, статья, о, моем, проект...  13   апреля  17:57   \n",
              "\n",
              "      Rate_x  View_x                                               Firm  \\\n",
              "0          6    2300                                     Гэллэри Сервис   \n",
              "1         10    5900                                     Гэллэри Сервис   \n",
              "2         21    1600                                     Гэллэри Сервис   \n",
              "3         24    5400                                     Гэллэри Сервис   \n",
              "4         16    8900                                     Гэллэри Сервис   \n",
              "...      ...     ...                                                ...   \n",
              "1107      14   11000  Проект по использованию технологий компьютерн...   \n",
              "1108       4    7800  Проект по использованию технологий компьютерн...   \n",
              "1109      35   57000  Проект по использованию технологий компьютерн...   \n",
              "1110      10   15000  Проект по использованию технологий компьютерн...   \n",
              "1111      32  220000  Проект по использованию технологий компьютерн...   \n",
              "\n",
              "      Rate_y  View_y Category  \n",
              "0        NaN     NaN      NaN  \n",
              "1        NaN     NaN      NaN  \n",
              "2        NaN     NaN      NaN  \n",
              "3        NaN     NaN      NaN  \n",
              "4        NaN     NaN      NaN  \n",
              "...      ...     ...      ...  \n",
              "1107     NaN     NaN      NaN  \n",
              "1108     NaN     NaN      NaN  \n",
              "1109     NaN     NaN      NaN  \n",
              "1110     NaN     NaN      NaN  \n",
              "1111     NaN     NaN      NaN  \n",
              "\n",
              "[1112 rows x 10 columns]"
            ]
          },
          "execution_count": 103,
          "metadata": {},
          "output_type": "execute_result"
        }
      ],
      "source": [
        "# Вывод DataFrame 'all1' после всех преобразований\n",
        "df_ff"
      ]
    },
    {
      "cell_type": "code",
      "execution_count": null,
      "metadata": {
        "id": "rt7DQnkC3Iue"
      },
      "outputs": [],
      "source": []
    }
  ],
  "metadata": {
    "colab": {
      "provenance": []
    },
    "kernelspec": {
      "display_name": "Python 3",
      "name": "python3"
    },
    "language_info": {
      "codemirror_mode": {
        "name": "ipython",
        "version": 3
      },
      "file_extension": ".py",
      "mimetype": "text/x-python",
      "name": "python",
      "nbconvert_exporter": "python",
      "pygments_lexer": "ipython3",
      "version": "3.9.4"
    }
  },
  "nbformat": 4,
  "nbformat_minor": 0
}
